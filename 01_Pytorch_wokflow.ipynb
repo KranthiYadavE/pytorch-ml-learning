{
  "nbformat": 4,
  "nbformat_minor": 0,
  "metadata": {
    "colab": {
      "provenance": []
    },
    "kernelspec": {
      "name": "python3",
      "display_name": "Python 3"
    },
    "language_info": {
      "name": "python"
    }
  },
  "cells": [
    {
      "cell_type": "markdown",
      "source": [
        "#PyTorch Workflow\n",
        "\n",
        "Lets Explore a exampe Pytorch end-to-end workflow\n",
        "\n",
        "Resources:"
      ],
      "metadata": {
        "id": "CBChahm2qgmH"
      }
    },
    {
      "cell_type": "code",
      "source": [
        "import torch\n",
        "from torch import nn\n",
        "import matplotlib.pyplot as plt\n",
        "\n",
        "#torch version\n",
        "torch.__version__"
      ],
      "metadata": {
        "colab": {
          "base_uri": "https://localhost:8080/",
          "height": 36
        },
        "id": "24ITnQj3qkXZ",
        "outputId": "1cae1f34-0e13-4436-aca0-914ecabba5b2"
      },
      "execution_count": null,
      "outputs": [
        {
          "output_type": "execute_result",
          "data": {
            "text/plain": [
              "'2.6.0+cu124'"
            ],
            "application/vnd.google.colaboratory.intrinsic+json": {
              "type": "string"
            }
          },
          "metadata": {},
          "execution_count": 1
        }
      ]
    },
    {
      "cell_type": "markdown",
      "source": [
        "Data can be almost anything .. in ml\n",
        "\n",
        "* Excel spread sheet\n",
        "*images\n",
        "* videos\n",
        "*Asio like songs\n",
        "* DNA\n",
        "*Text\n",
        "To showcase lets create some known data using the linear reg formula"
      ],
      "metadata": {
        "id": "fT_Eac1pr0KJ"
      }
    },
    {
      "cell_type": "code",
      "source": [
        "weight= 0.7\n",
        "bias=0.3\n",
        "\n",
        "#Create\n",
        "start=0\n",
        "end=1\n",
        "step=0.02\n",
        "X =torch.arange(start, end, step).unsqueeze(dim=1)\n",
        "y=weight*X+bias\n",
        "\n",
        "X[:10], y[:10] , len(X),len(y)"
      ],
      "metadata": {
        "colab": {
          "base_uri": "https://localhost:8080/"
        },
        "id": "g3gQkN7KsGnW",
        "outputId": "141f2eab-7080-449d-8386-ab8055ffffa1"
      },
      "execution_count": null,
      "outputs": [
        {
          "output_type": "execute_result",
          "data": {
            "text/plain": [
              "(tensor([[0.0000],\n",
              "         [0.0200],\n",
              "         [0.0400],\n",
              "         [0.0600],\n",
              "         [0.0800],\n",
              "         [0.1000],\n",
              "         [0.1200],\n",
              "         [0.1400],\n",
              "         [0.1600],\n",
              "         [0.1800]]),\n",
              " tensor([[0.3000],\n",
              "         [0.3140],\n",
              "         [0.3280],\n",
              "         [0.3420],\n",
              "         [0.3560],\n",
              "         [0.3700],\n",
              "         [0.3840],\n",
              "         [0.3980],\n",
              "         [0.4120],\n",
              "         [0.4260]]),\n",
              " 50,\n",
              " 50)"
            ]
          },
          "metadata": {},
          "execution_count": 2
        }
      ]
    },
    {
      "cell_type": "code",
      "source": [
        " ###SPlit data into trsainin and test sets(imp consepsts)\n",
        "train_split=int(0.8 * len(X))\n",
        "X_train,y_train=X[:train_split], y[:train_split]\n",
        "X_test,y_test=X[train_split:], y[train_split:]\n",
        "len(X_train), len(y_train), len(X_test), len(y_test)"
      ],
      "metadata": {
        "colab": {
          "base_uri": "https://localhost:8080/"
        },
        "id": "YsClv0jitqQD",
        "outputId": "2b9c629e-b775-4038-ebab-fa18f238cffe"
      },
      "execution_count": null,
      "outputs": [
        {
          "output_type": "execute_result",
          "data": {
            "text/plain": [
              "(40, 40, 10, 10)"
            ]
          },
          "metadata": {},
          "execution_count": 3
        }
      ]
    },
    {
      "cell_type": "markdown",
      "source": [
        "How might we visualize the data \"vis vis vis\"\n"
      ],
      "metadata": {
        "id": "2mc1GXymwmaO"
      }
    },
    {
      "cell_type": "code",
      "source": [
        "X_train,y_train"
      ],
      "metadata": {
        "colab": {
          "base_uri": "https://localhost:8080/"
        },
        "id": "V-WsJPLQwDgA",
        "outputId": "a871aea3-3565-4463-b496-e0276a9bedbe"
      },
      "execution_count": null,
      "outputs": [
        {
          "output_type": "execute_result",
          "data": {
            "text/plain": [
              "(tensor([[0.0000],\n",
              "         [0.0200],\n",
              "         [0.0400],\n",
              "         [0.0600],\n",
              "         [0.0800],\n",
              "         [0.1000],\n",
              "         [0.1200],\n",
              "         [0.1400],\n",
              "         [0.1600],\n",
              "         [0.1800],\n",
              "         [0.2000],\n",
              "         [0.2200],\n",
              "         [0.2400],\n",
              "         [0.2600],\n",
              "         [0.2800],\n",
              "         [0.3000],\n",
              "         [0.3200],\n",
              "         [0.3400],\n",
              "         [0.3600],\n",
              "         [0.3800],\n",
              "         [0.4000],\n",
              "         [0.4200],\n",
              "         [0.4400],\n",
              "         [0.4600],\n",
              "         [0.4800],\n",
              "         [0.5000],\n",
              "         [0.5200],\n",
              "         [0.5400],\n",
              "         [0.5600],\n",
              "         [0.5800],\n",
              "         [0.6000],\n",
              "         [0.6200],\n",
              "         [0.6400],\n",
              "         [0.6600],\n",
              "         [0.6800],\n",
              "         [0.7000],\n",
              "         [0.7200],\n",
              "         [0.7400],\n",
              "         [0.7600],\n",
              "         [0.7800]]),\n",
              " tensor([[0.3000],\n",
              "         [0.3140],\n",
              "         [0.3280],\n",
              "         [0.3420],\n",
              "         [0.3560],\n",
              "         [0.3700],\n",
              "         [0.3840],\n",
              "         [0.3980],\n",
              "         [0.4120],\n",
              "         [0.4260],\n",
              "         [0.4400],\n",
              "         [0.4540],\n",
              "         [0.4680],\n",
              "         [0.4820],\n",
              "         [0.4960],\n",
              "         [0.5100],\n",
              "         [0.5240],\n",
              "         [0.5380],\n",
              "         [0.5520],\n",
              "         [0.5660],\n",
              "         [0.5800],\n",
              "         [0.5940],\n",
              "         [0.6080],\n",
              "         [0.6220],\n",
              "         [0.6360],\n",
              "         [0.6500],\n",
              "         [0.6640],\n",
              "         [0.6780],\n",
              "         [0.6920],\n",
              "         [0.7060],\n",
              "         [0.7200],\n",
              "         [0.7340],\n",
              "         [0.7480],\n",
              "         [0.7620],\n",
              "         [0.7760],\n",
              "         [0.7900],\n",
              "         [0.8040],\n",
              "         [0.8180],\n",
              "         [0.8320],\n",
              "         [0.8460]]))"
            ]
          },
          "metadata": {},
          "execution_count": 4
        }
      ]
    },
    {
      "cell_type": "code",
      "source": [
        "def plot_predictions(train_Data=X_train,\n",
        "                     train_lables=y_train,\n",
        "                     test_Data=X_test,\n",
        "                     test_labels=y_test,\n",
        "                     predictions=None):\n",
        "  \"\"\" plots for training data and testing data and compares predictions\"\"\"\n",
        "  plt.figure(figsize=(10,7))\n",
        "  #plot train in bule\n",
        "  plt.scatter(train_Data, train_lables, c=\"b\", s=4, label=\"Training Data\")\n",
        "\n",
        "  #plot test data\n",
        "  plt.scatter(test_Data, test_labels, c=\"g\" , s=4, label=\"Test Data\")\n",
        "\n",
        "  #Are there predictions\n",
        "  if predictions is not None:\n",
        "    plt.scatter(test_Data, predictions, c=\"r\", s=4, label=\"Predictions\")\n",
        "\n",
        "  #show the legend\n",
        "  plt.legend(prop={\"size\": 10});"
      ],
      "metadata": {
        "id": "VE9-hzYnwgsx"
      },
      "execution_count": null,
      "outputs": []
    },
    {
      "cell_type": "code",
      "source": [
        "plot_predictions()"
      ],
      "metadata": {
        "colab": {
          "base_uri": "https://localhost:8080/",
          "height": 460
        },
        "id": "UDwLqNzJzKW4",
        "outputId": "1010ca12-9ceb-4667-9c26-b7e354272b65"
      },
      "execution_count": null,
      "outputs": [
        {
          "output_type": "display_data",
          "data": {
            "text/plain": [
              "<Figure size 1000x700 with 1 Axes>"
            ],
            "image/png": "[encoded data removed]"
          },
          "metadata": {}
        }
      ]
    },
    {
      "cell_type": "markdown",
      "source": [
        "##building pytorch model\n"
      ],
      "metadata": {
        "id": "EsWwVUwnzXJK"
      }
    },
    {
      "cell_type": "code",
      "source": [
        "#create a linear reg model class\n",
        "class LinearRegressionModel(nn.Module): #<- almost every thing in pytorch model\n",
        "  def __init__(self):\n",
        "    super().__init__()\n",
        "    self.weights=nn.Parameter(torch.randn(1,requires_grad=True, dtype=torch.float))\n",
        "    self.bias=nn.Parameter(torch.randn(1,requires_grad=True, dtype=torch.float))\n",
        "\n",
        "    #Forward method to define the computation in the model\n",
        "  def forward(self, x:torch.Tensor) -> torch.Tensor:\n",
        "    return self.weights * x + self.bias #linear regression model formula\n",
        "\n"
      ],
      "metadata": {
        "id": "4l13V41z1Ako"
      },
      "execution_count": null,
      "outputs": []
    },
    {
      "cell_type": "markdown",
      "source": [
        "##PyTorch model building essentials\n",
        "\n",
        "* torch.nn - contains all the buildings for computational graphs\n",
        "* torch.nn.Parameters - what parameters should oue model try\n",
        "* torch.nn.Model- base class for all nn modeluls , if you subclass it\n",
        "* torch.optim- this whre the optimier n pytroch live\n",
        "* def forward() - All nn.Module subclasses requeire uou to overwrite this function."
      ],
      "metadata": {
        "id": "Ycep1XRB8MqL"
      }
    },
    {
      "cell_type": "code",
      "source": [
        "##CHeck contents of pytorch model\n",
        "#create random seed\n",
        "torch.manual_seed(42)\n",
        "\n",
        "model_0=LinearRegressionModel()\n",
        "\n",
        "list(model_0.parameters())"
      ],
      "metadata": {
        "colab": {
          "base_uri": "https://localhost:8080/"
        },
        "id": "euIg6tXpAH1j",
        "outputId": "c9735ba2-a613-4c1f-85c8-d317f69f5359"
      },
      "execution_count": null,
      "outputs": [
        {
          "output_type": "execute_result",
          "data": {
            "text/plain": [
              "[Parameter containing:\n",
              " tensor([0.3367], requires_grad=True),\n",
              " Parameter containing:\n",
              " tensor([0.1288], requires_grad=True)]"
            ]
          },
          "metadata": {},
          "execution_count": 25
        }
      ]
    },
    {
      "cell_type": "code",
      "source": [
        "##List names param\n",
        "model_0.state_dict()\n",
        "\n"
      ],
      "metadata": {
        "colab": {
          "base_uri": "https://localhost:8080/"
        },
        "id": "7bcvgULSCo_K",
        "outputId": "b77ea7f9-1a02-48bf-8c83-89f42c0d73f8"
      },
      "execution_count": null,
      "outputs": [
        {
          "output_type": "execute_result",
          "data": {
            "text/plain": [
              "OrderedDict([('weights', tensor([0.3367])), ('bias', tensor([0.1288]))])"
            ]
          },
          "metadata": {},
          "execution_count": 26
        }
      ]
    },
    {
      "cell_type": "code",
      "source": [
        "weight, bias"
      ],
      "metadata": {
        "colab": {
          "base_uri": "https://localhost:8080/"
        },
        "id": "uCTMgLlFDiBF",
        "outputId": "a7e7f287-ef55-4d0a-e416-29dfe468b372"
      },
      "execution_count": null,
      "outputs": [
        {
          "output_type": "execute_result",
          "data": {
            "text/plain": [
              "(0.7, 0.3)"
            ]
          },
          "metadata": {},
          "execution_count": 27
        }
      ]
    },
    {
      "cell_type": "markdown",
      "source": [
        "##Making pred using `torch.inference_mode()`\n",
        "to check out model predictive pwoer , lets see how well it predicts 'y_test' based on \"test\""
      ],
      "metadata": {
        "id": "bwJtTaUqDqOa"
      }
    },
    {
      "cell_type": "code",
      "source": [
        "with torch.inference_mode():\n",
        "  y_preds=model_0(X_test)\n",
        "\n",
        "y_preds\n",
        "\n",
        "with torch.no_grad():\n",
        "  y_preds=model_0(X_test)\n",
        "\n",
        "y_preds"
      ],
      "metadata": {
        "colab": {
          "base_uri": "https://localhost:8080/"
        },
        "id": "E3Xt2sIxFLFL",
        "outputId": "ae76e2c8-79fc-425d-8db1-49436b9961f8"
      },
      "execution_count": null,
      "outputs": [
        {
          "output_type": "execute_result",
          "data": {
            "text/plain": [
              "tensor([[0.3982],\n",
              "        [0.4049],\n",
              "        [0.4116],\n",
              "        [0.4184],\n",
              "        [0.4251],\n",
              "        [0.4318],\n",
              "        [0.4386],\n",
              "        [0.4453],\n",
              "        [0.4520],\n",
              "        [0.4588]])"
            ]
          },
          "metadata": {},
          "execution_count": 28
        }
      ]
    },
    {
      "cell_type": "code",
      "source": [
        "plot_predictions(predictions=y_preds)"
      ],
      "metadata": {
        "colab": {
          "base_uri": "https://localhost:8080/",
          "height": 460
        },
        "id": "Colps89dHb2N",
        "outputId": "9f977640-a760-48b5-dd1b-3bbc310b3a91"
      },
      "execution_count": null,
      "outputs": [
        {
          "output_type": "display_data",
          "data": {
            "text/plain": [
              "<Figure size 1000x700 with 1 Axes>"
            ],
            "image/png": "[encoded data removed]"
          },
          "metadata": {}
        }
      ]
    },
    {
      "cell_type": "markdown",
      "source": [
        "3.Train Model\n",
        "\n",
        "Loss fun aslo nknow as cost function"
      ],
      "metadata": {
        "id": "mj7q2cxNHiKx"
      }
    },
    {
      "cell_type": "code",
      "source": [
        "#setup a loss funtion\n",
        "loss_fn=nn.L1Loss()\n",
        "\n",
        "\n",
        "#optimizer\n",
        "optimizer=torch.optim.SGD(params=model_0.parameters(),lr=0.01)"
      ],
      "metadata": {
        "id": "aGB3nInRZAXk"
      },
      "execution_count": null,
      "outputs": []
    },
    {
      "cell_type": "code",
      "source": [],
      "metadata": {
        "id": "_8UNFmd7IpdA"
      },
      "execution_count": null,
      "outputs": []
    },
    {
      "cell_type": "code",
      "source": [
        "epochs=100\n",
        "\n",
        "epoch_count, loss_values, test_loss_values= [],[],[]\n",
        "# loop throght the data\n",
        "#this is training\n",
        "for epoch in range(epochs):\n",
        "  model_0.train()\n",
        "\n",
        "  #forwat pass\n",
        "  y_pred=model_0(X_train)\n",
        "  loss=loss_fn(y_pred, y_train)\n",
        "  #optmizer xero grad\n",
        "  optimizer.zero_grad()\n",
        "\n",
        "  #back propagation\n",
        "  loss.backward()\n",
        "  #5 sttep  the optim\n",
        "  optimizer.step()\n",
        "\n",
        "  model_0.eval()\n",
        "  with torch.inference_mode():\n",
        "    test_pred=model_0(X_test)\n",
        "    #cal the loss\n",
        "    test_loss=loss_fn(test_pred, y_test)\n",
        "    if epoch % 10==0:\n",
        "      epoch_count.append(epoch)\n",
        "      loss_values.append(loss)\n",
        "      test_loss_values.append(test_loss)\n",
        "      print(f\"Epoch: {epoch} | Loss: {loss} | Test Loss: {test_loss}\")\n",
        "      print(model_0.state_dict())\n",
        "\n",
        "\n"
      ],
      "metadata": {
        "id": "tXpplix_jf7x",
        "colab": {
          "base_uri": "https://localhost:8080/"
        },
        "outputId": "7d4960d4-a861-47dc-cb7a-c5c2b4835dc3"
      },
      "execution_count": null,
      "outputs": [
        {
          "output_type": "stream",
          "name": "stdout",
          "text": [
            "Epoch: 0 | Loss: 0.3013603389263153 | Test Loss: 0.4675942063331604\n",
            "OrderedDict([('weights', tensor([0.3445])), ('bias', tensor([0.1488]))])\n",
            "Epoch: 10 | Loss: 0.18615034222602844 | Test Loss: 0.3328842222690582\n",
            "OrderedDict([('weights', tensor([0.3835])), ('bias', tensor([0.2488]))])\n",
            "Epoch: 20 | Loss: 0.08227583020925522 | Test Loss: 0.2069590985774994\n",
            "OrderedDict([('weights', tensor([0.4222])), ('bias', tensor([0.3403]))])\n",
            "Epoch: 30 | Loss: 0.05181945487856865 | Test Loss: 0.14023718237876892\n",
            "OrderedDict([('weights', tensor([0.4539])), ('bias', tensor([0.3788]))])\n",
            "Epoch: 40 | Loss: 0.04503796249628067 | Test Loss: 0.11182951927185059\n",
            "OrderedDict([('weights', tensor([0.4768])), ('bias', tensor([0.3868]))])\n",
            "Epoch: 50 | Loss: 0.04132963344454765 | Test Loss: 0.09809747338294983\n",
            "OrderedDict([('weights', tensor([0.4956])), ('bias', tensor([0.3838]))])\n",
            "Epoch: 60 | Loss: 0.03785243630409241 | Test Loss: 0.08776430785655975\n",
            "OrderedDict([('weights', tensor([0.5134])), ('bias', tensor([0.3783]))])\n",
            "Epoch: 70 | Loss: 0.03441363573074341 | Test Loss: 0.0794917643070221\n",
            "OrderedDict([('weights', tensor([0.5306])), ('bias', tensor([0.3713]))])\n",
            "Epoch: 80 | Loss: 0.030979642644524574 | Test Loss: 0.07190609723329544\n",
            "OrderedDict([('weights', tensor([0.5475])), ('bias', tensor([0.3638]))])\n",
            "Epoch: 90 | Loss: 0.02754882536828518 | Test Loss: 0.06363357603549957\n",
            "OrderedDict([('weights', tensor([0.5647])), ('bias', tensor([0.3568]))])\n"
          ]
        }
      ]
    },
    {
      "cell_type": "code",
      "source": [
        "import numpy as np"
      ],
      "metadata": {
        "id": "Kq3k3WD2-qvq"
      },
      "execution_count": null,
      "outputs": []
    },
    {
      "cell_type": "code",
      "source": [
        "plot_predictions(predictions=test_pred);"
      ],
      "metadata": {
        "colab": {
          "base_uri": "https://localhost:8080/",
          "height": 460
        },
        "id": "HA2ZFLUMzzgm",
        "outputId": "e0f49554-f259-498e-8455-193b4c5504ff"
      },
      "execution_count": null,
      "outputs": [
        {
          "output_type": "display_data",
          "data": {
            "text/plain": [
              "<Figure size 1000x700 with 1 Axes>"
            ],
            "image/png": "[encoded data removed]"
          },
          "metadata": {}
        }
      ]
    },
    {
      "cell_type": "markdown",
      "source": [
        "#Plot loss curvers"
      ],
      "metadata": {
        "id": "VILdldp39xnr"
      }
    },
    {
      "cell_type": "code",
      "source": [
        "plt.plot(epoch_count, np.array(torch.tensor(loss_values).numpy()), label=\"Train loss\")\n",
        "plt.plot(epoch_count, test_loss_values, label=\"Test loss\")\n",
        "plt.title(\"Training and test loss curves\")\n",
        "plt.ylabel(\"Loss\")\n",
        "plt.xlabel(\"Epochs\")\n",
        "plt.legend();"
      ],
      "metadata": {
        "id": "DaIfiVQC0KQn",
        "colab": {
          "base_uri": "https://localhost:8080/",
          "height": 472
        },
        "outputId": "6b6b3f59-6d08-4427-8eaf-642052ed02e3"
      },
      "execution_count": null,
      "outputs": [
        {
          "output_type": "display_data",
          "data": {
            "text/plain": [
              "<Figure size 640x480 with 1 Axes>"
            ],
            "image/png": "[encoded data removed]"
          },
          "metadata": {}
        }
      ]
    },
    {
      "cell_type": "markdown",
      "source": [
        "## Saving a model in Pytorch\n",
        "#three main methods\n",
        "1.`torch.save()` save model in pickel format\n",
        "2. `torch.load()` load rhe save model as pytorch object\n",
        "3. `torch.nn.Module.load_state_dict()`- save model state dict\n",
        "\n",
        "ref- https://docs.pytorch.org/tutorials/beginner/saving_loading_models.html"
      ],
      "metadata": {
        "id": "zpAI6kDy-edH"
      }
    },
    {
      "cell_type": "code",
      "source": [
        "from pathlib import Path\n",
        "#1. Create  amodel directory\n",
        "Model_Path=Path(\"models\")\n",
        "Model_Path.mkdir(parents=True, exist_ok=True)\n",
        "\n",
        "#2. Create model save path\n",
        "Model_Name=\"01_pytoch_workflow.pth\"\n",
        "MODEL_SAVE_PATH=Model_Path/ Model_Name\n",
        "\n",
        "print(f\"saving model to : {MODEL_SAVE_PATH}\")\n",
        "#saving model\n",
        "torch.save(obj=model_0.state_dict(),f=MODEL_SAVE_PATH)"
      ],
      "metadata": {
        "colab": {
          "base_uri": "https://localhost:8080/"
        },
        "id": "XZps7AYDDvFL",
        "outputId": "7e574aeb-10b9-4270-cd69-d55adcfe808b"
      },
      "execution_count": 66,
      "outputs": [
        {
          "output_type": "stream",
          "name": "stdout",
          "text": [
            "saving model to : models/01_pytoch_workflow.pth\n"
          ]
        }
      ]
    },
    {
      "cell_type": "code",
      "source": [
        "!ls -l models"
      ],
      "metadata": {
        "id": "2RRumiIwFvFe",
        "colab": {
          "base_uri": "https://localhost:8080/"
        },
        "outputId": "be8e6c83-38e6-46e4-aeab-b9beca6ada72"
      },
      "execution_count": 63,
      "outputs": [
        {
          "output_type": "stream",
          "name": "stdout",
          "text": [
            "total 4\n",
            "-rw-r--r-- 1 root root 2138 Aug 14 20:09 01_pytoch_workflow.pth\n"
          ]
        }
      ]
    },
    {
      "cell_type": "code",
      "source": [
        "model_0.state_dict()"
      ],
      "metadata": {
        "colab": {
          "base_uri": "https://localhost:8080/"
        },
        "id": "akAHni9XMnxC",
        "outputId": "24eb9aa7-c99e-4f21-d763-155be3f287ce"
      },
      "execution_count": 67,
      "outputs": [
        {
          "output_type": "execute_result",
          "data": {
            "text/plain": [
              "OrderedDict([('weights', tensor([0.5800])), ('bias', tensor([0.3503]))])"
            ]
          },
          "metadata": {},
          "execution_count": 67
        }
      ]
    },
    {
      "cell_type": "markdown",
      "source": [
        "Loading a Pytorch Model\n",
        "since we saved the model in state dict we have we have to create our model instance class\n"
      ],
      "metadata": {
        "id": "OnvN9dwhHpcW"
      }
    },
    {
      "cell_type": "code",
      "source": [
        "# To load a state dict model we have to create the instance of our model\n",
        "loaded_model_0 = LinearRegressionModel()\n",
        "\n",
        "# Load the saved state_dict of model_0\n",
        "loaded_model_0.load_state_dict(torch.load(f=MODEL_SAVE_PATH))"
      ],
      "metadata": {
        "colab": {
          "base_uri": "https://localhost:8080/"
        },
        "id": "32hgt-hYI9vh",
        "outputId": "574372bc-2249-4ae1-fb89-62b1df62251e"
      },
      "execution_count": 70,
      "outputs": [
        {
          "output_type": "execute_result",
          "data": {
            "text/plain": [
              "<All keys matched successfully>"
            ]
          },
          "metadata": {},
          "execution_count": 70
        }
      ]
    },
    {
      "cell_type": "code",
      "source": [
        "loaded_model_0.state_dict()"
      ],
      "metadata": {
        "colab": {
          "base_uri": "https://localhost:8080/"
        },
        "id": "lG3Ppm3KJnij",
        "outputId": "8e54bd8e-71a6-4daf-fc2a-0d86db985346"
      },
      "execution_count": 71,
      "outputs": [
        {
          "output_type": "execute_result",
          "data": {
            "text/plain": [
              "OrderedDict([('weights', tensor([0.5800])), ('bias', tensor([0.3503]))])"
            ]
          },
          "metadata": {},
          "execution_count": 71
        }
      ]
    },
    {
      "cell_type": "code",
      "metadata": {
        "colab": {
          "base_uri": "https://localhost:8080/"
        },
        "id": "c5fec1d9",
        "outputId": "506d4278-7dfb-40d3-d477-ea567e9fbd0f"
      },
      "source": [
        "loaded_model_0.eval()\n",
        "with torch.inference_mode():\n",
        "  loaded_model_preds=loaded_model_0(X_test)\n",
        "loaded_model_preds"
      ],
      "execution_count": 72,
      "outputs": [
        {
          "output_type": "execute_result",
          "data": {
            "text/plain": [
              "tensor([[0.8143],\n",
              "        [0.8259],\n",
              "        [0.8375],\n",
              "        [0.8491],\n",
              "        [0.8607],\n",
              "        [0.8723],\n",
              "        [0.8839],\n",
              "        [0.8955],\n",
              "        [0.9071],\n",
              "        [0.9187]])"
            ]
          },
          "metadata": {},
          "execution_count": 72
        }
      ]
    },
    {
      "cell_type": "code",
      "source": [
        "model_0.eval()\n",
        "with torch.inference_mode():\n",
        "  y_preds=model_0(X_test)\n",
        "y_preds"
      ],
      "metadata": {
        "colab": {
          "base_uri": "https://localhost:8080/"
        },
        "id": "nfcq7wMONo-T",
        "outputId": "26e83744-2ad0-45bb-fe9c-9601820c58ad"
      },
      "execution_count": 77,
      "outputs": [
        {
          "output_type": "execute_result",
          "data": {
            "text/plain": [
              "tensor([[0.8143],\n",
              "        [0.8259],\n",
              "        [0.8375],\n",
              "        [0.8491],\n",
              "        [0.8607],\n",
              "        [0.8723],\n",
              "        [0.8839],\n",
              "        [0.8955],\n",
              "        [0.9071],\n",
              "        [0.9187]])"
            ]
          },
          "metadata": {},
          "execution_count": 77
        }
      ]
    },
    {
      "cell_type": "code",
      "source": [
        "y_preds==loaded_model_preds"
      ],
      "metadata": {
        "colab": {
          "base_uri": "https://localhost:8080/"
        },
        "id": "pzu2kaKlNtWp",
        "outputId": "daac69b9-d4c6-437c-dd1e-4d1557e710db"
      },
      "execution_count": 78,
      "outputs": [
        {
          "output_type": "execute_result",
          "data": {
            "text/plain": [
              "tensor([[True],\n",
              "        [True],\n",
              "        [True],\n",
              "        [True],\n",
              "        [True],\n",
              "        [True],\n",
              "        [True],\n",
              "        [True],\n",
              "        [True],\n",
              "        [True]])"
            ]
          },
          "metadata": {},
          "execution_count": 78
        }
      ]
    },
    {
      "cell_type": "markdown",
      "source": [
        "Putting all together"
      ],
      "metadata": {
        "id": "MQZWTNHoPaP3"
      }
    },
    {
      "cell_type": "code",
      "source": [
        "#Import pytorch and matplotlib\n",
        "import torch\n",
        "from torch import nn\n",
        "import matplotlib.pyplot as plt\n",
        "\n",
        "#check torch version\n",
        "torch.__version__"
      ],
      "metadata": {
        "colab": {
          "base_uri": "https://localhost:8080/",
          "height": 36
        },
        "id": "eDKDeCPzRFw6",
        "outputId": "a01bb345-7a13-42fd-ff83-723fc43f3710"
      },
      "execution_count": 79,
      "outputs": [
        {
          "output_type": "execute_result",
          "data": {
            "text/plain": [
              "'2.6.0+cu124'"
            ],
            "application/vnd.google.colaboratory.intrinsic+json": {
              "type": "string"
            }
          },
          "metadata": {},
          "execution_count": 79
        }
      ]
    },
    {
      "cell_type": "code",
      "source": [
        "#Create device egnostic code\n",
        "device= \"cuda\" if torch.cuda.is_available() else \"cpu\"\n",
        "print(f\"device: {device}\")"
      ],
      "metadata": {
        "colab": {
          "base_uri": "https://localhost:8080/"
        },
        "id": "KEk0alpxRVws",
        "outputId": "1d1de82d-5334-483e-cbbd-7943612874c4"
      },
      "execution_count": 80,
      "outputs": [
        {
          "output_type": "stream",
          "name": "stdout",
          "text": [
            "device: cpu\n"
          ]
        }
      ]
    },
    {
      "cell_type": "code",
      "source": [
        "#Data\n",
        "#create some data using the linear reg fprmula of y=weight * featutrs + bias\n",
        "weight =0.7\n",
        "bias = 0.1\n",
        "\n",
        "#create th range values\n",
        "start = 0\n",
        "end = 1\n",
        "step =0.02\n",
        "\n",
        "#create x and y fetaures\n",
        "X = torch.arange(start,end,step).unsqueeze(dim=1)\n",
        "y= weight*X + bias\n",
        "X[:10], y[:10]"
      ],
      "metadata": {
        "colab": {
          "base_uri": "https://localhost:8080/"
        },
        "id": "BENEt227Rrff",
        "outputId": "1f007e9c-7319-405d-bca9-a96a33c169f9"
      },
      "execution_count": 85,
      "outputs": [
        {
          "output_type": "execute_result",
          "data": {
            "text/plain": [
              "(tensor([[0.0000],\n",
              "         [0.0200],\n",
              "         [0.0400],\n",
              "         [0.0600],\n",
              "         [0.0800],\n",
              "         [0.1000],\n",
              "         [0.1200],\n",
              "         [0.1400],\n",
              "         [0.1600],\n",
              "         [0.1800]]),\n",
              " tensor([[0.1000],\n",
              "         [0.1140],\n",
              "         [0.1280],\n",
              "         [0.1420],\n",
              "         [0.1560],\n",
              "         [0.1700],\n",
              "         [0.1840],\n",
              "         [0.1980],\n",
              "         [0.2120],\n",
              "         [0.2260]]))"
            ]
          },
          "metadata": {},
          "execution_count": 85
        }
      ]
    },
    {
      "cell_type": "code",
      "source": [
        "#split the data\n",
        "train_split=int(0.8*len(X))\n",
        "\n",
        "X_train,y_train=X[:train_split],y[:train_split]\n",
        "X_test, y_test=X[train_split:],y[train_split:]\n",
        "len(X_train),len(X_test),len(y_test),len(y_train)\n",
        ""
      ],
      "metadata": {
        "colab": {
          "base_uri": "https://localhost:8080/"
        },
        "id": "FCJ76FNUUYHG",
        "outputId": "0c92f5da-9050-4e51-e462-70feca086f61"
      },
      "execution_count": 87,
      "outputs": [
        {
          "output_type": "execute_result",
          "data": {
            "text/plain": [
              "(40, 10, 10, 40)"
            ]
          },
          "metadata": {},
          "execution_count": 87
        }
      ]
    },
    {
      "cell_type": "code",
      "source": [
        "#plot the data\n",
        "plot_predictions(X_train,y_train,X_test,y_test)"
      ],
      "metadata": {
        "colab": {
          "base_uri": "https://localhost:8080/",
          "height": 531
        },
        "id": "izREzIkvViZ-",
        "outputId": "c3e5502a-9eb7-41fe-ec76-e10f15cfea95"
      },
      "execution_count": 88,
      "outputs": [
        {
          "output_type": "display_data",
          "data": {
            "text/plain": [
              "<Figure size 1000x700 with 1 Axes>"
            ],
            "image/png": "[encoded data removed]"
          },
          "metadata": {}
        }
      ]
    },
    {
      "cell_type": "markdown",
      "source": [
        "Building a Pytorch Linear model"
      ],
      "metadata": {
        "id": "V8k0FCL0Vvht"
      }
    },
    {
      "cell_type": "code",
      "source": [
        "#create a linea regresion model by subclassing nn.Module\n",
        "class LinearRegressionModelV2(nn.Module):\n",
        "  def __init__(self):\n",
        "    super().__init__()\n",
        "    #Use nn.Linear for creating the model param\n",
        "    self.linear_layer = nn.Linear(in_features=1, out_features=1)\n",
        "\n",
        "  def forward(self,x : torch.Tensor) -> torch.Tensor:\n",
        "    return self.linear_layer(x)\n",
        "\n",
        "#set manuak see\n",
        "torch.manual_seed(42)\n",
        "\n",
        "model_1=LinearRegressionModelV2()\n",
        "model_1, model_1.state_dict()"
      ],
      "metadata": {
        "colab": {
          "base_uri": "https://localhost:8080/"
        },
        "id": "lCSOjw12WLhP",
        "outputId": "a5a36479-c1d8-4acb-d77e-00df5bc77699"
      },
      "execution_count": 90,
      "outputs": [
        {
          "output_type": "execute_result",
          "data": {
            "text/plain": [
              "(LinearRegressionModelV2(\n",
              "   (linear_layer): Linear(in_features=1, out_features=1, bias=True)\n",
              " ),\n",
              " OrderedDict([('linear_layer.weight', tensor([[0.7645]])),\n",
              "              ('linear_layer.bias', tensor([0.8300]))]))"
            ]
          },
          "metadata": {},
          "execution_count": 90
        }
      ]
    },
    {
      "cell_type": "code",
      "source": [
        "#Check the current model device\n",
        "next(model_1.parameters()).device\n",
        "\n"
      ],
      "metadata": {
        "colab": {
          "base_uri": "https://localhost:8080/"
        },
        "id": "1PySH-ipYKx0",
        "outputId": "44d359ed-58b9-4b74-aaec-cc1b261bae75"
      },
      "execution_count": 91,
      "outputs": [
        {
          "output_type": "execute_result",
          "data": {
            "text/plain": [
              "device(type='cpu')"
            ]
          },
          "metadata": {},
          "execution_count": 91
        }
      ]
    },
    {
      "cell_type": "code",
      "source": [
        "#set the model to use the target device\n",
        "model_1.to(device)\n",
        "next(model_1.parameters()).device"
      ],
      "metadata": {
        "colab": {
          "base_uri": "https://localhost:8080/"
        },
        "id": "tW9jMgSDZpF6",
        "outputId": "23a0bcd5-a021-4a06-93c5-ea0071817253"
      },
      "execution_count": 92,
      "outputs": [
        {
          "output_type": "execute_result",
          "data": {
            "text/plain": [
              "device(type='cpu')"
            ]
          },
          "metadata": {},
          "execution_count": 92
        }
      ]
    },
    {
      "cell_type": "markdown",
      "source": [
        "#training the data\n",
        "\n",
        "For training we need:\n",
        "*Loss Function\n",
        "*Optimizer\n",
        "*Training\n",
        "*testing loop"
      ],
      "metadata": {
        "id": "yOYeHC7JZye5"
      }
    },
    {
      "cell_type": "code",
      "source": [
        "loss_fn=nn.L1Loss()\n",
        "\n",
        "#setup out optimizer\n",
        "optimizer = torch.optim.SGD(params=model_1.parameters(),lr=0.01)"
      ],
      "metadata": {
        "id": "JiOEwxL5aJ4Z"
      },
      "execution_count": 98,
      "outputs": []
    },
    {
      "cell_type": "code",
      "source": [
        "torch.manual_seed(42)\n",
        "epochs=200\n",
        "\n",
        "for epoch in range(epochs):\n",
        "  model_1.train()\n",
        "\n",
        "  #Forward pass\n",
        "  y_pred=model_1(X_train)\n",
        "\n",
        "  #calculate tje loss\n",
        "  loss=loss_fn(y_pred,y_train)\n",
        "\n",
        "  #Optimizer zero grad\n",
        "  optimizer.zero_grad()\n",
        "\n",
        "  #back pass\n",
        "  loss.backward()\n",
        "\n",
        "  #5. optimizer step\n",
        "  optimizer.step()\n",
        "\n",
        "  #Testing\n",
        "  model_1.eval()\n",
        "  with torch.inference_mode():\n",
        "    test_pred=model_1(X_test)\n",
        "\n",
        "    test_loss = loss_fn(test_pred,y_test)\n",
        "\n",
        "    if epoch%10 == 0:\n",
        "      print(f\"Epocj: {epoch}  | Loss: {loss} | Test_loss : {test_loss}\")\n",
        "\n",
        "\n",
        "\n",
        "\n"
      ],
      "metadata": {
        "colab": {
          "base_uri": "https://localhost:8080/"
        },
        "id": "Jq_1rCBaaxd0",
        "outputId": "f64a0be2-c78b-4c7e-a718-e988a991b4ba"
      },
      "execution_count": 99,
      "outputs": [
        {
          "output_type": "stream",
          "name": "stdout",
          "text": [
            "Epocj: 0  | Loss: 0.7551778554916382 | Test_loss : 0.77397620677948\n",
            "Epocj: 10  | Loss: 0.6399680376052856 | Test_loss : 0.6392663717269897\n",
            "Epocj: 20  | Loss: 0.5247582197189331 | Test_loss : 0.5045565366744995\n",
            "Epocj: 30  | Loss: 0.409548282623291 | Test_loss : 0.36984673142433167\n",
            "Epocj: 40  | Loss: 0.2943384647369385 | Test_loss : 0.23513686656951904\n",
            "Epocj: 50  | Loss: 0.17912858724594116 | Test_loss : 0.1004270538687706\n",
            "Epocj: 60  | Loss: 0.06402723491191864 | Test_loss : 0.03343570977449417\n",
            "Epocj: 70  | Loss: 0.03615034744143486 | Test_loss : 0.0744357705116272\n",
            "Epocj: 80  | Loss: 0.0322178453207016 | Test_loss : 0.07306783646345139\n",
            "Epocj: 90  | Loss: 0.028742367401719093 | Test_loss : 0.06616915762424469\n",
            "Epocj: 100  | Loss: 0.025311116129159927 | Test_loss : 0.058583587408065796\n",
            "Epocj: 110  | Loss: 0.021877547726035118 | Test_loss : 0.05031111091375351\n",
            "Epocj: 120  | Loss: 0.018438735976815224 | Test_loss : 0.042038630694150925\n",
            "Epocj: 130  | Loss: 0.015009167604148388 | Test_loss : 0.034453026950359344\n",
            "Epocj: 140  | Loss: 0.011573916301131248 | Test_loss : 0.026180576533079147\n",
            "Epocj: 150  | Loss: 0.008135656826198101 | Test_loss : 0.018595004454255104\n",
            "Epocj: 160  | Loss: 0.004707204643636942 | Test_loss : 0.010322588495910168\n",
            "Epocj: 170  | Loss: 0.0036310753785073757 | Test_loss : 0.005814754869788885\n",
            "Epocj: 180  | Loss: 0.0036310753785073757 | Test_loss : 0.005814754869788885\n",
            "Epocj: 190  | Loss: 0.0036310753785073757 | Test_loss : 0.005814754869788885\n"
          ]
        }
      ]
    },
    {
      "cell_type": "code",
      "source": [
        "model_1.state_dict()"
      ],
      "metadata": {
        "colab": {
          "base_uri": "https://localhost:8080/"
        },
        "id": "dPZH8MPWdcjP",
        "outputId": "7bb0cc32-346c-4c50-9aef-01696690ac42"
      },
      "execution_count": 100,
      "outputs": [
        {
          "output_type": "execute_result",
          "data": {
            "text/plain": [
              "OrderedDict([('linear_layer.weight', tensor([[0.6919]])),\n",
              "             ('linear_layer.bias', tensor([0.0995]))])"
            ]
          },
          "metadata": {},
          "execution_count": 100
        }
      ]
    },
    {
      "cell_type": "code",
      "source": [
        "#evaluation and making predictions\n",
        "\n",
        "model_1.eval()\n",
        "\n",
        "#Make predictioons on the test data\n",
        "\n",
        "with torch.inference_mode():\n",
        "  y_preds = model_1(X_test)\n",
        "y_preds"
      ],
      "metadata": {
        "colab": {
          "base_uri": "https://localhost:8080/"
        },
        "id": "V2Vl1mHPdgVY",
        "outputId": "fbb5c534-28b9-4677-c1bd-7ea93d8447d6"
      },
      "execution_count": 120,
      "outputs": [
        {
          "output_type": "execute_result",
          "data": {
            "text/plain": [
              "tensor([[0.6531],\n",
              "        [0.6669],\n",
              "        [0.6807],\n",
              "        [0.6946],\n",
              "        [0.7084],\n",
              "        [0.7223],\n",
              "        [0.7361],\n",
              "        [0.7499],\n",
              "        [0.7638],\n",
              "        [0.7776]])"
            ]
          },
          "metadata": {},
          "execution_count": 120
        }
      ]
    },
    {
      "cell_type": "code",
      "source": [
        "#visalization\n",
        "plot_predictions(predictions=y_preds)"
      ],
      "metadata": {
        "colab": {
          "base_uri": "https://localhost:8080/",
          "height": 531
        },
        "id": "MQz8Xo3Ge0VP",
        "outputId": "6a5bf74b-2bf0-4c80-b429-cb76fc6fff15"
      },
      "execution_count": 121,
      "outputs": [
        {
          "output_type": "display_data",
          "data": {
            "text/plain": [
              "<Figure size 1000x700 with 1 Axes>"
            ],
            "image/png": "[encoded data removed]"
          },
          "metadata": {}
        }
      ]
    },
    {
      "cell_type": "code",
      "source": [
        "#saving the model\n",
        "from pathlib import Path\n",
        "\n",
        "Model_Path= Path(\"models\")\n",
        "Model_Path.mkdir(parents=True, exist_ok=True)\n",
        "\n",
        "Model_Name = \"01_workflow_model_1.pth\"\n",
        "\n",
        "MODEL_SAVE_PATH= Model_Path / Model_Name\n",
        "\n",
        "MODEL_SAVE_PATH\n",
        "\n",
        "#save the model sate dict\n",
        "print(f\"saving the model :{MODEL_SAVE_PATH}\")\n",
        "torch.save(obj= model_1.state_dict(),f=MODEL_SAVE_PATH)"
      ],
      "metadata": {
        "colab": {
          "base_uri": "https://localhost:8080/"
        },
        "id": "kSXVdXaNe8O9",
        "outputId": "7cfff1e6-6635-4715-ef55-d1d0eeb7d4df"
      },
      "execution_count": 122,
      "outputs": [
        {
          "output_type": "stream",
          "name": "stdout",
          "text": [
            "saving the model :models/01_workflow_model_1.pth\n"
          ]
        }
      ]
    },
    {
      "cell_type": "code",
      "source": [
        "#load a mode\n",
        "loaded_model_1=LinearRegressionModelV2()\n",
        "# Load the save model_! state_dict\n",
        "loaded_model_1.load_state_dict(torch.load(f=MODEL_SAVE_PATH))\n"
      ],
      "metadata": {
        "colab": {
          "base_uri": "https://localhost:8080/"
        },
        "id": "MQtNHcslhSke",
        "outputId": "25368139-0556-440f-de8e-d0c9d417d158"
      },
      "execution_count": 123,
      "outputs": [
        {
          "output_type": "execute_result",
          "data": {
            "text/plain": [
              "<All keys matched successfully>"
            ]
          },
          "metadata": {},
          "execution_count": 123
        }
      ]
    },
    {
      "cell_type": "code",
      "source": [
        "loaded_model_1.state_dict()"
      ],
      "metadata": {
        "colab": {
          "base_uri": "https://localhost:8080/"
        },
        "id": "lqViARcviIo8",
        "outputId": "f4dcdf78-4189-4446-f29d-bd4c73f20e4b"
      },
      "execution_count": 124,
      "outputs": [
        {
          "output_type": "execute_result",
          "data": {
            "text/plain": [
              "OrderedDict([('linear_layer.weight', tensor([[0.6919]])),\n",
              "             ('linear_layer.bias', tensor([0.0995]))])"
            ]
          },
          "metadata": {},
          "execution_count": 124
        }
      ]
    },
    {
      "cell_type": "code",
      "source": [
        "#eval loaded model\n",
        "loaded_model_1.eval()\n",
        "with torch.inference_mode():\n",
        "  loaded_model_1_preds=loaded_model_1(X_test)\n",
        "y_preds==loaded_model_1_preds"
      ],
      "metadata": {
        "colab": {
          "base_uri": "https://localhost:8080/"
        },
        "id": "C592uPOqiMZo",
        "outputId": "ebf3226d-e3e5-4f30-d25e-011a040bb9ea"
      },
      "execution_count": 125,
      "outputs": [
        {
          "output_type": "execute_result",
          "data": {
            "text/plain": [
              "tensor([[True],\n",
              "        [True],\n",
              "        [True],\n",
              "        [True],\n",
              "        [True],\n",
              "        [True],\n",
              "        [True],\n",
              "        [True],\n",
              "        [True],\n",
              "        [True]])"
            ]
          },
          "metadata": {},
          "execution_count": 125
        }
      ]
    }
  ]
}